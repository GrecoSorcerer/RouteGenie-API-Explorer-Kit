{
 "cells": [
  {
   "cell_type": "markdown",
   "metadata": {},
   "source": [
    "# Execution Constants and Helper Function"
   ]
  },
  {
   "cell_type": "code",
   "execution_count": 35,
   "metadata": {},
   "outputs": [],
   "source": [
    "#!/usr/bin/env python\n",
    "# -*- coding: utf-8 -*-\n",
    "\n",
    "### Salvatore L Greco <salvatore@isi-technology.com>\n",
    "### ISI Technology/RouteGenie Business Systems Analyst\n",
    "\n",
    "\n",
    "ENV = {\n",
    "    \"HOST\" : \"https://your-subdomain.routegenie.com:8000/\",\n",
    "    \"SECRET\" : \"\",\n",
    "    \"CLIENTID\" : \"\"\n",
    "}\n",
    "\n",
    "    \n",
    "TESTID = \"OtherPayerTest002\"\n",
    "\n",
    "\n",
    "PAYMENT_METHOD = {\n",
    "    0 : 'Account',\n",
    "    1 : 'Credit Card',\n",
    "    2 : 'Cash',\n",
    "    3 : 'Check',\n",
    "    4 : 'Voucher',\n",
    "    5 : 'Pass'\n",
    "}\n",
    "\n",
    "PAYMENT_STATUSES = {\n",
    "    0 : 'Not paid',\n",
    "    1 : 'Partial Paid',\n",
    "    2 : 'Paid in Full',\n",
    "}\n",
    "\n",
    "\"\"\"Authentication and Create Order POST request test.\"\"\"\n",
    "\n",
    "import requests\n",
    "import base64\n",
    "from pprint import pprint\n",
    "\n",
    "def get_access_token(client_secret, client_id):\n",
    "    \"\"\"Returns the base64 encoded access token credential.\n",
    "\n",
    "    Parameters:\n",
    "    client_secret (str): The RGAPI Client Secret.\n",
    "    client_id (str): The RGAPI Client ID.\n",
    "    \"\"\"\n",
    "    # Format the credential.\n",
    "    credentials = f\"{client_id}:{client_secret}\"\n",
    "\n",
    "    # Credentials is encoded from utf-8 to a base64 byte string.\n",
    "    # The encoded credential is then converted from a byte string to a string.\n",
    "    encoded_credentials = base64.b64encode(credentials.encode(\"utf-8\")).decode(\"utf-8\")\n",
    "\n",
    "    return encoded_credentials\n"
   ]
  },
  {
   "cell_type": "markdown",
   "metadata": {},
   "source": [
    "# Request Authentication Access Code"
   ]
  },
  {
   "cell_type": "code",
   "execution_count": null,
   "metadata": {},
   "outputs": [],
   "source": [
    "#!/usr/bin/env python\n",
    "# -*- coding: utf-8 -*-\n",
    "\n",
    "### Salvatore L Greco <salvatore@isi-technology.com>\n",
    "### ISI Technology/RouteGenie Business Systems Analyst\n",
    "\n",
    "HEADER = {\n",
    "    \"Authorization\": f\"Basic {get_access_token(ENV['SECRET'], ENV['CLIENTID'])}\",\n",
    "    \"Content-Type\": \"application/x-www-form-urlencoded\"\n",
    "}\n",
    "\n",
    "DATA = {'grant_type': 'client_credentials'}\n",
    "\n",
    "token_request = requests.post(f\"{ENV['HOST']}oauth2/token/\", \n",
    "                              headers=HEADER, \n",
    "                              data=DATA)\n",
    "\n",
    "access_token = token_request.json()['access_token']\n",
    "\n",
    "# Print out the request status and request text\n",
    "print(f\"Authentication Response: [{token_request.status_code}]\")\n",
    "# print(token_request.text)\n"
   ]
  },
  {
   "cell_type": "markdown",
   "metadata": {},
   "source": [
    "# Get Payers"
   ]
  },
  {
   "cell_type": "code",
   "execution_count": null,
   "metadata": {},
   "outputs": [],
   "source": [
    "#!/usr/bin/env python\n",
    "# -*- coding: utf-8 -*-\n",
    "\n",
    "### Salvatore L Greco <salvatore@isi-technology.com>\n",
    "### ISI Technology/RouteGenie Business Systems Analyst\n",
    "\n",
    "\n",
    "HEADER = {\n",
    "  'Authorization': f'Bearer {access_token}',\n",
    "  \"Content-Type\": \"application/x-www-form-urlencoded\"\n",
    "}\n",
    "\n",
    "\n",
    "DATA = {'grant_type': 'client_credentials'}\n",
    "\n",
    "request = requests.get(f\"{ENV['HOST']}open_api/api/v1/payer/\", \n",
    "                              headers=HEADER)\n",
    "\n",
    "# Print out the request status and request text\n",
    "print(f\"Payers: [{request.json()}]\")\n",
    "# print(equest.text)"
   ]
  },
  {
   "cell_type": "markdown",
   "metadata": {},
   "source": [
    "# Get Trip Types"
   ]
  },
  {
   "cell_type": "code",
   "execution_count": null,
   "metadata": {},
   "outputs": [],
   "source": [
    "#!/usr/bin/env python\n",
    "# -*- coding: utf-8 -*-\n",
    "\n",
    "### Salvatore L Greco <salvatore@isi-technology.com>\n",
    "### ISI Technology/RouteGenie Business Systems Analyst\n",
    "\n",
    "HEADER = {\n",
    "  'Authorization': f'Bearer {access_token}'\n",
    "}\n",
    "\n",
    "print(f\"Requesting modes via {ENV['HOST']}open_api/api/v1/custom_trip_type/\")\n",
    "\n",
    "response = requests.get(f\"{ENV['HOST']}open_api/api/v1/custom_trip_type/\",\n",
    "                        headers=HEADER)\n",
    "raw_modes = response.json()['results']\n",
    "\n",
    "print(f\"Request Order Modes Response: [{response.status_code}]\")"
   ]
  },
  {
   "cell_type": "markdown",
   "metadata": {},
   "source": [
    "# Construct Modes dictionary"
   ]
  },
  {
   "cell_type": "code",
   "execution_count": null,
   "metadata": {},
   "outputs": [],
   "source": [
    "ORDER_MODES = {pairs['id']:pairs['name'] for pairs in raw_modes}\n",
    "\n",
    "print(ORDER_MODES)"
   ]
  },
  {
   "cell_type": "markdown",
   "metadata": {},
   "source": [
    "# Request an Order"
   ]
  },
  {
   "cell_type": "code",
   "execution_count": null,
   "metadata": {
    "notebookRunGroups": {
     "groupValue": "1"
    }
   },
   "outputs": [],
   "source": [
    "#!/usr/bin/env python\n",
    "# -*- coding: utf-8 -*-\n",
    "\n",
    "### Salvatore L Greco <salvatore@isi-technology.com>\n",
    "### ISI Technology/RouteGenie Business Systems Analyst\n",
    "\n",
    "DATA = {\n",
    "    \"ride_id\": TESTID,\n",
    "    \"client_internal_id\": 1,\n",
    "    \"custom_trip_type\": 1,\n",
    "    \"payer_id\": 30,\n",
    "    \"initial_time\": \"10/01/2025 16:30\",\n",
    "    \"pick_up_address\":\"241 Main St Buffalo NY\",\n",
    "    \"drop_off_address\":\"490 Delaware Ave Buffalo NY\",\n",
    "    \"payment_method\":1,\n",
    "    \"amount\": 15\n",
    "}\n",
    "    \n",
    "HEADER = {\n",
    "    'Authorization': f'Bearer {access_token}'\n",
    "}\n",
    "\n",
    "print(f\"Requesting {ORDER_MODES[DATA['custom_trip_type']]} ORDER {TESTID} for {DATA['client_internal_id']} at {DATA['initial_time']} from {DATA['pick_up_address']} to {DATA['drop_off_address']} paid by {PAYMENT_METHOD[DATA['payment_method']]}\")\n",
    "print(f\"Requesting Order via {ENV['HOST']}open_api/api/v1/order/\")\n",
    "response = requests.post(f\"{ENV['HOST']}open_api/api/v1/order/\", \n",
    "                         headers=HEADER, \n",
    "                         data=DATA)\n",
    "\n",
    "print(f\"Create Order Response: [{response.status_code}]\")\n",
    "if (response.status_code==404):\n",
    "    print(\"Order may already exist!\")\n",
    "print(f\"[{response.text}]\")"
   ]
  },
  {
   "cell_type": "markdown",
   "metadata": {},
   "source": [
    "# Query the Order"
   ]
  },
  {
   "cell_type": "code",
   "execution_count": null,
   "metadata": {},
   "outputs": [],
   "source": [
    "#!/usr/bin/env python\n",
    "# -*- coding: utf-8 -*-\n",
    "\n",
    "### Salvatore L Greco <salvatore@isi-technology.com>\n",
    "### ISI Technology/RouteGenie Business Systems Analyst\n",
    "\n",
    "HEADER = {\n",
    "    'Authorization': f'Bearer {access_token}'\n",
    "}\n",
    "\n",
    "PARAM = {\n",
    "    \"ride_id\":TESTID\n",
    "}\n",
    "\n",
    "query_string = f\"{ENV['HOST']}open_api/api/v1/order/{PARAM['ride_id']}/\"\n",
    "\n",
    "print(f\"Querying ORDER {TESTID}\")\n",
    "queryorders = requests.get(query_string, \n",
    "                           headers = HEADER)\n",
    "\n",
    "print(f\"Query Order Response: [{queryorders.status_code}]\")\n",
    "DATA = queryorders.json()\n",
    "#print(f'---\\nSummary:\\nORDER {TESTID} - {ORDER_MODES[DATA['custom_trip_type']]} for {DATA['client']['id']} at {DATA['initial_time']}\\nfrom \"{DATA['pick_up_address']}\"\\nto \"{DATA['drop_off_address']}\"\\npaid by {PAYMENT_METHOD[DATA['fare_payment_info']['payment_method']]}')\n",
    "#print(f\"---\\nStatus: Ride status - {DATA['status']} | Payment - {PAYMENT_STATUSES[DATA['fare_payment_info']['payment_status']]}\\n---\")\n",
    "pprint(DATA, indent=4)"
   ]
  },
  {
   "cell_type": "code",
   "execution_count": null,
   "metadata": {},
   "outputs": [],
   "source": [
    "#!/usr/bin/env python\n",
    "# -*- coding: utf-8 -*-\n",
    "\n",
    "### Salvatore L Greco <salvatore@isi-technology.com>\n",
    "### ISI Technology/RouteGenie Business Systems Analyst\n",
    "\n",
    "HEADER = {\n",
    "    'Authorization': f'Bearer {access_token}'\n",
    "}\n",
    "\n",
    "start_date = \"10/01/2025\"\n",
    "end_date = \"10/03/2025\"\n",
    "query_string = f'{ENV['HOST']}open_api/api/v1/order/?start_date={start_date}&end_date={end_date}?client_id=4231'\n",
    "\n",
    "print(f\"Querying ORDER {TESTID}\")\n",
    "queryorders = requests.get(query_string, \n",
    "                           headers = HEADER)\n",
    "\n",
    "print(f\"Query Order Response: [{queryorders.status_code}]\")\n",
    "DATA = queryorders.json()\n",
    "#print(f'---\\nSummary:\\nORDER {TESTID} - {ORDER_MODES[DATA['custom_trip_type']]} for {DATA['client']['id']} at {DATA['initial_time']}\\nfrom \"{DATA['pick_up_address']}\"\\nto \"{DATA['drop_off_address']}\"\\npaid by {PAYMENT_METHOD[DATA['fare_payment_info']['payment_method']]}')\n",
    "#print(f\"---\\nStatus: Ride status - {DATA['status']} | Payment - {PAYMENT_STATUSES[DATA['fare_payment_info']['payment_status']]}\\n---\")\n",
    "pprint(DATA, indent=4)"
   ]
  }
 ],
 "metadata": {
  "kernelspec": {
   "display_name": ".venv",
   "language": "python",
   "name": "python3"
  },
  "language_info": {
   "codemirror_mode": {
    "name": "ipython",
    "version": 3
   },
   "file_extension": ".py",
   "mimetype": "text/x-python",
   "name": "python",
   "nbconvert_exporter": "python",
   "pygments_lexer": "ipython3",
   "version": "3.13.1"
  }
 },
 "nbformat": 4,
 "nbformat_minor": 2
}
